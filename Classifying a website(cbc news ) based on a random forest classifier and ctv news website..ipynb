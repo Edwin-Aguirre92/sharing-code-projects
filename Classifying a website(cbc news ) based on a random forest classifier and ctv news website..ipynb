{
 "cells": [
  {
   "cell_type": "code",
   "execution_count": 1,
   "metadata": {},
   "outputs": [],
   "source": [
    "import matplotlib.pyplot as plt\n",
    "import nltk\n",
    "from nltk import word_tokenize\n",
    "from nltk import sent_tokenize\n",
    "from nltk.corpus import stopwords\n",
    "from sklearn.ensemble import RandomForestClassifier\n",
    "import numpy as np\n",
    "import random\n",
    "import pandas as pd\n",
    "from sklearn.model_selection import train_test_split\n",
    "from sklearn import preprocessing\n",
    "from sklearn.metrics import confusion_matrix\n",
    "from sklearn.preprocessing import OneHotEncoder\n",
    "from sklearn.feature_extraction.text import CountVectorizer\n",
    "from urllib.request import urlopen\n",
    "from bs4 import BeautifulSoup"
   ]
  },
  {
   "cell_type": "markdown",
   "metadata": {},
   "source": [
    "### Previously Defined functions"
   ]
  },
  {
   "cell_type": "code",
   "execution_count": 2,
   "metadata": {},
   "outputs": [],
   "source": [
    "def ask_user():\n",
    "    print('Do you have an URL link in mind?,type yes or no for the answer')\n",
    "    l=str(input())\n",
    "    if l=='yes':\n",
    "        print('What is it?')\n",
    "        link=input()\n",
    "    else:\n",
    "        print('We will use the default URL link')\n",
    "        link='https://edmonton.ctvnews.ca/new-covid-19-restrictions-alberta-bans-all-gatherings-closes-most-businesses-and-makes-masks-mandatory-1.5221814'\n",
    "    print('Do you have a desired number of features to use? If yes, type yes otherwise type no')\n",
    "    ll=str(input())\n",
    "    if ll=='yes':\n",
    "        print('What is the number of features that you want?, must be an integer')\n",
    "        n_1=int(input())\n",
    "    else:\n",
    "        print('We will use 20 number of features as default')\n",
    "        n_1=20\n",
    "    return link,n_1"
   ]
  },
  {
   "cell_type": "code",
   "execution_count": 3,
   "metadata": {},
   "outputs": [],
   "source": [
    "def final_classification(clas_1,n_fraction):\n",
    "    count=0\n",
    "    for element in clas_1:\n",
    "        if element =='Relevant':\n",
    "            count=count+1\n",
    "    if float(count/len(clas_1))>=n_fraction:\n",
    "        return('The analyzed text is relevant, with a relevant number of:'+str(round(float(count/len(clas_1)),2)*100)+\"%\")\n",
    "    else:\n",
    "        return('The analyzed text is not-relevant, with a relevant number of:'+str(round(float(count/len(clas_1)),2)*100)+\"%\")\n",
    "    "
   ]
  },
  {
   "cell_type": "code",
   "execution_count": 4,
   "metadata": {},
   "outputs": [],
   "source": [
    "def Rel_nonRel_oneszeros(n_observations,f_matrix,Features,n_repeated):\n",
    "    labels=[]\n",
    "    i=0\n",
    "    while i< n_observations:\n",
    "        row=f_matrix[i,:]\n",
    "        total=0\n",
    "        for number in row:\n",
    "            if number ==1:\n",
    "                count=1\n",
    "                total=total+count\n",
    "        if total>=n_repeated:\n",
    "            labels.append('Relevant')\n",
    "        else:\n",
    "            labels.append('Non-relevant')\n",
    "        i=i+1\n",
    "    return labels"
   ]
  },
  {
   "cell_type": "code",
   "execution_count": 5,
   "metadata": {},
   "outputs": [],
   "source": [
    "def freq_words(clean_tokens,new):\n",
    "    sr= stopwords.words('english')\n",
    "    for element in sr:\n",
    "        new.append(element)\n",
    "    c_l=[]\n",
    "    for tokens in clean_tokens:\n",
    "        if tokens not in new:\n",
    "            c_l.append(tokens)\n",
    "    return c_l"
   ]
  },
  {
   "cell_type": "markdown",
   "metadata": {},
   "source": [
    "## Analysis of Text starts here"
   ]
  },
  {
   "cell_type": "markdown",
   "metadata": {},
   "source": [
    "### Asking user if it has an URL in mind and a number of desired features"
   ]
  },
  {
   "cell_type": "code",
   "execution_count": 6,
   "metadata": {},
   "outputs": [
    {
     "name": "stdout",
     "output_type": "stream",
     "text": [
      "Do you have an URL link in mind?,type yes or no for the answer\n",
      "no\n",
      "We will use the default URL link\n",
      "Do you have a desired number of features to use? If yes, type yes otherwise type no\n",
      "yes\n",
      "What is the number of features that you want?, must be an integer\n",
      "20\n"
     ]
    }
   ],
   "source": [
    "User=ask_user()"
   ]
  },
  {
   "cell_type": "code",
   "execution_count": 7,
   "metadata": {},
   "outputs": [],
   "source": [
    "File_text= open(\"Alberta_New_Covid.txt\",encoding=\"utf8\")\n",
    "R_file1=File_text.read()\n",
    "Text_file=word_tokenize(R_file1)"
   ]
  },
  {
   "cell_type": "markdown",
   "metadata": {},
   "source": [
    "### Asking the user which website would one wants, and how many features would one need to analyze the text"
   ]
  },
  {
   "cell_type": "code",
   "execution_count": 8,
   "metadata": {},
   "outputs": [],
   "source": [
    "html = urlopen(User[0]).read().decode(\"utf8\")"
   ]
  },
  {
   "cell_type": "code",
   "execution_count": 9,
   "metadata": {},
   "outputs": [],
   "source": [
    "n_desired_features=User[1]"
   ]
  },
  {
   "cell_type": "code",
   "execution_count": 10,
   "metadata": {
    "scrolled": false
   },
   "outputs": [
    {
     "data": {
      "text/plain": [
       "14510"
      ]
     },
     "execution_count": 10,
     "metadata": {},
     "output_type": "execute_result"
    }
   ],
   "source": [
    "raw = BeautifulSoup(html).get_text()\n",
    "raw_tokenize = nltk.word_tokenize(raw)\n",
    "len(raw_tokenize)"
   ]
  },
  {
   "cell_type": "code",
   "execution_count": 11,
   "metadata": {},
   "outputs": [],
   "source": [
    "New=['The','As','(',')','.','I',',','We','ïƒ¼','â€¢',':','$','--','\"','[',']']\n",
    "for element in raw_tokenize:\n",
    "    if element not in Text_file:\n",
    "        New.append(element)\n",
    "New=list(set(New))"
   ]
  },
  {
   "cell_type": "code",
   "execution_count": 12,
   "metadata": {},
   "outputs": [
    {
     "name": "stdout",
     "output_type": "stream",
     "text": [
      "['let', 'new', 'COVID-19', 'restrictions', 'Alberta', 'gatherings', 'businesses', 'masks', 'mandatory', 'COVID-19', 'restrictions', 'Alberta', 'gatherings', 'businesses', 'masks', 'mandatory', 'Alberta', 'banning', 'social', 'gatherings', 'closing', 'restaurants', 'gyms', 'hair', 'salons', 'making', 'masks', 'mandatory', 'across', 'province', 'curb', 'spread', 'COVID-19', 'restrictions', 'Alberta', 'gatherings', 'businesses', 'masks', 'mandatory', 'Alberta', 'banning', 'social', 'gatherings', 'closing', 'restaurants', 'gyms', 'hair', 'salons', 'making', 'masks', 'mandatory', 'across', 'province', 'curb', 'spread', 'COVID-19', 'EDMONTON', 'Edmonton', 'EDMONTON', 'COVID-19', 'restrictions', 'Alberta', 'gatherings', 'businesses', 'masks', 'mandatory', 'Tuesday', 'Tuesday', 'home', 'new', 'used', 'new', 'used', 'new', 'current', 'new', 'currently', 'currently', 'currently', 'new', 'used', 'new', 'used', 'used', 'work', 'current', 'Alberta', 'new', 'COVID-19', 'restrictions', 'Alberta', 'government', 'new', 'COVID-19', 'restrictions', 'Tuesday', 'home', 'mask', 'mandate', 'Alberta', 'Premier', 'Jason', 'Kenney', 'Alberta', 'spread', 'COVID-19', 'home', 'Kenney', 'COVID-19', 'Premier', 'Kenney', 'COVID-19', 'home', 'Kenney', 'new', 'restrictions', 'Alberta', 'Alberta', 'Premier', 'Jason', 'Kenney', 'new', 'restrictions', 'province', 'COVID-19', 'cases', 'home', 'Alberta', '1,727', 'new', 'COVID-19', 'cases', 'Chief', 'Medical', 'Officer', 'Health', 'Dr.', 'Deena', 'Hinshaw', '1,727', 'new', 'COVID-19', 'cases', 'new', 'restrictions', 'home', 'Shandro', 'must', 'measures', 'Alberta', 'Health', 'Minister', 'Tyler', 'Shandro', 'says', 'Alberta', 'must', 'COVID-19', 'measures', 'health', 'home', 'Premier', 'full', 'Alberta', 'Premier', 'Jason', 'Kenney', 'new', 'restrictions', 'province', 'COVID-19', 'cases', 'home', 'restrictions', 'Alberta', 'Premier', 'Jason', 'Kenney', 'restrictions', 'COVID-19', 'cases', 'home', 'Hinshaw', 'health', 'Dr.', 'Deena', 'Hinshaw', 'says', 'province', 'still', 'transmission', 'COVID-19', 'home', 'Alberta', 'home', 'COVID-19', 'rules', 'people', 'COVID-19', 'rules', 'home', 'positivity', 'rate', 'Alberta', 'reported', 'new', 'COVID-19', 'cases', 'positivity', 'rate', 'per', 'cent', 'home', 'Malls', 'holidays', 'along', 'home', 'mandatory', 'masks', 'masks', 'mandatory', 'indoor', 'public', 'Alberta', 'home', 'new', 'Alberta', 'Alberta', 'new', 'cases', 'COVID-19', '20,000', 'home', 'Alberta', 'home', 'Alberta', 'hospitalizations', 'rising', 'health', 'says', 'Alberta', 'home', 'home', 'home', 'home', 'home', 'home', 'home', 'home', 'home', 'home', 'home', 'home', 'home', 'home', 'home', 'home', 'home', 'home', 'let', 'new', 'This', 'time', 'This', 'let', 'let', 'new', 'EDMONTON', 'Alberta', 'banning', 'social', 'gatherings', 'closing', 'restaurants', 'gyms', 'hair', 'salons', 'making', 'masks', 'mandatory', 'across', 'province', 'curb', 'spread', 'COVID-19', 'Premier', 'Jason', 'Kenney', 'introduced', 'new', 'restrictions', 'along', 'Health', 'Minister', 'Tyler', 'Shandro', 'Jobs', 'Economy', 'Innovation', 'Minister', 'Doug', 'Schweitzer', 'Chief', 'Medical', 'Officer', 'Health', 'Dr.', 'Deena', 'Hinshaw', 'Alberta', 'added', '1,727', 'new', 'coronavirus', 'cases', 'nine', 'deaths', 'Tuesday', 'premier', 'said', 'new', 'rules', '“', 'last', 'resort', '”', 'necessary', 'slow', 'spread', 'disease', 'Infographics', 'COVID-19', 'Alberta', 'numbers', 'COVID-19', 'Edmonton', 'Numbers', 'broken', 'neighbourhood', '“', 'know', 'allow', 'viral', 'spread', 'current', 'growth', 'rates', 'eventually', 'run', 'hospital', 'capacity', '”', 'Kenney', 'said', 'adding', 'currently', '654', 'Albertans', 'COVID-19', 'hospital', 'including', '112', 'ICU', '“', 'That', 'opinion', 'fact.', '”', 'limits', 'indoor', 'outdoor', 'social', 'gatherings', 'province-wide', 'mandatory', 'mask', 'mandate', 'effective', 'Tuesday', 'Close', 'contacts', 'limited', 'within', 'homes', 'people', 'live', 'alone', 'still', 'two', 'close', 'contacts', 'following', 'restrictions', 'effective', 'Sunday', 'Dec.', '13', 'starting', '12:01', 'a.m.', 'RESTAURANTS', 'RETAIL', 'AND', 'PLACES', 'OF', 'WORSHIP', 'Restaurants', 'bars', 'cafes', 'closed', 'in-person', 'services', 'takeout', 'curbside', 'pickup', 'deliveries', 'allowed', '“', 'Many', 'restaurants', 'similar', 'operations', 'told', 'us', '’', 'closed', 'pay', 'bills', 'right', '”', 'Kenney', 'said', '“', 'This', 'allow', 'fully', 'access', 'federal', 'supports', 'provincial', 'supports', 'get', 'difficult', 'following', 'weeks.', '”', 'Schweitzer', 'said', 'small', 'medium', 'businesses', 'get', 'another', '15,000', 'part', 'provincial', 'relaunch', 'grant', 'government', 'handed', '5,000', 'spring', 'businesses', '’', 'apply', 'get', 'full', '20,000', 'support', 'Other', 'businesses', 'closing', 'also', 'include', 'hair', 'nail', 'salons', 'fitness', 'recreation', 'centres', 'pools', 'arenas', 'libraries', 'museums', 'casinos', 'Outdoor', 'recreation', 'permitted', 'people', 'household', 'Some', 'health', 'services', 'physiotherapy', 'acupuncture', 'shelters', 'vulnerable', 'emergency', 'services', 'remain', 'open', 'Retail', 'stores', 'malls', 'remain', 'open', '15', 'per', 'cent', 'capacity', 'curbside', 'pickup', 'delivery', 'services', 'allowed', '“', 'Malls', 'must', 'limited', 'commercial', 'visits', 'customers', 'used', 'place', 'hangout', 'socialize', 'friends', '”', 'Kenney', 'said', 'Religious', 'gatherings', 'also', 'capped', '15', 'per', 'cent', 'province', 'encourages', 'virtual', 'online', 'services', 'Also', 'starting', 'Sunday', 'government', 'making', 'mandatory', 'work', 'home', 'able', 'new', 'restrictions', 'affect', 'schools', 'premier', 'said', '‘', 'HERE', 'IS', 'THE', 'HARD', 'TRUTH', '’', 'restrictions', 'place', 'least', 'four', 'weeks', 'meaning', 'Albertans', 'allowed', 'visit', 'family', 'holidays', 'premier', 'says', '“', 'great', 'reluctance', '”', 'holiday', 'gatherings', 'must', 'kept', 'members', 'household', 'two', 'close', 'contacts', 'people', 'live', 'alone', '“', 'Here', 'hard', 'truth', 'Clearly', 'biggest', 'single', 'source', 'viral', 'transmission', 'at-home', 'gatherings', '”', 'Kenney', 'said', '“', 'It', '’', 'let', 'guard', '’', 'relax', 'people', '’', 'close', '’', 'transmission', 'easily', 'happens', 'And', 'relax', 'public', 'health', 'measures', 'permit', 'large', 'family', 'gatherings', 'three', 'weeks', '’', 'time', 'without', 'shadow', 'doubt', 'see', 'large', 'increase', 'hospitalizations', 'fatalities', 'simply', 'let', 'Christmas', 'turn', 'tragedy', 'many', 'families.', '”', 'Kenney', 'say', 'Alberta', '’', 'R-value', 'rate', 'transmission', 'stabilized', '1.2', 'added', 'cases', 'hospitalizations', 'deaths', 'still', 'rising', 'province', '’', 'positivity', 'rate', '9.41', 'per', 'cent', 'Alberta', 'reported', 'average', '1,785', 'cases', 'week', 'Hinshaw', 'said', 'There', '20,388', 'active', 'infections', '“', 'Today', 'asking', 'even', 'may', 'overwhelming', 'needs', 'done', 'There', 'option', '”', 'said', 'Hinshaw', 'give', 'another', 'COVID-19', 'update', 'Wednesday', 'afternoon', 'Alberta', 'reported', '72,028', 'cases', '51,000', 'recoveries', '640', 'deaths', 'since', 'March', 'Premier', 'Jason', 'Kenney', 'Chief', 'Medical', 'Officer', 'health', 'Dr.', 'Deena', 'Hinshaw', 'Edmonton', 'Alberta', 'people', 'even', 'Edmonton', 'Alberta', 'COVID-19', 'Wednesday', 'Edmonton', 'Edmonton', 'says', 'close', 'new', 'provincial', 'COVID-19', 'rules', 'Edmonton', 'COVID-19', 'Christmas', 'Edmonton', 'Edmonton', 'Alberta', 'new', 'Alberta', 'This', 'COVID-19', 'Health', 'COVID-19', 'say', 'COVID-19', 'says', 'two', 'Alberta', 'new', 'COVID-19', 'restrictions', 'Alberta', 'COVID-19', 'restrictions', 'COVID-19', 'restrictions', 'Alberta', 'gatherings', 'businesses', 'masks', 'mandatory', 'Alberta', 'new', 'Alberta', 'COVID-19', 'Wednesday', 'work', 'work', 'Edmonton', 'Edmonton', 'Edmonton', 'new', 'new', 'COVID-19', 'restrictions', 'Alberta', 'gatherings', 'businesses', 'masks', 'mandatory']\n"
     ]
    }
   ],
   "source": [
    "clean_html=freq_words(raw_tokenize,New)\n",
    "print(clean_html)"
   ]
  },
  {
   "cell_type": "code",
   "execution_count": 13,
   "metadata": {},
   "outputs": [],
   "source": [
    "vectorize=CountVectorizer(max_features=n_desired_features)\n",
    "X = vectorize.fit_transform(clean_html).toarray()"
   ]
  },
  {
   "cell_type": "code",
   "execution_count": 14,
   "metadata": {},
   "outputs": [
    {
     "data": {
      "text/plain": [
       "['19',\n",
       " 'alberta',\n",
       " 'businesses',\n",
       " 'cases',\n",
       " 'covid',\n",
       " 'edmonton',\n",
       " 'gatherings',\n",
       " 'health',\n",
       " 'hinshaw',\n",
       " 'home',\n",
       " 'jason',\n",
       " 'kenney',\n",
       " 'mandatory',\n",
       " 'masks',\n",
       " 'new',\n",
       " 'premier',\n",
       " 'province',\n",
       " 'restaurants',\n",
       " 'restrictions',\n",
       " 'said']"
      ]
     },
     "execution_count": 14,
     "metadata": {},
     "output_type": "execute_result"
    }
   ],
   "source": [
    "Features=list(vectorize.get_feature_names())\n",
    "Features"
   ]
  },
  {
   "cell_type": "code",
   "execution_count": 15,
   "metadata": {},
   "outputs": [],
   "source": [
    "Feature_labels=Rel_nonRel_oneszeros(len(X),X,Features,1)"
   ]
  },
  {
   "cell_type": "markdown",
   "metadata": {},
   "source": [
    "### Splitting Data to train Random Forest Classifier and Test it"
   ]
  },
  {
   "cell_type": "code",
   "execution_count": 16,
   "metadata": {},
   "outputs": [],
   "source": [
    "X_train, X_test, y_train, y_test = train_test_split( X, Feature_labels, test_size=0.25, random_state=42)"
   ]
  },
  {
   "cell_type": "code",
   "execution_count": 17,
   "metadata": {},
   "outputs": [
    {
     "name": "stdout",
     "output_type": "stream",
     "text": [
      "[[0 0 0 ... 0 0 0]\n",
      " [0 0 0 ... 0 0 0]\n",
      " [0 0 0 ... 0 0 0]\n",
      " ...\n",
      " [0 0 0 ... 0 0 0]\n",
      " [0 0 0 ... 0 0 0]\n",
      " [0 0 0 ... 0 0 0]]\n"
     ]
    }
   ],
   "source": [
    "print(X_train)"
   ]
  },
  {
   "cell_type": "markdown",
   "metadata": {},
   "source": [
    "### Using a Random Forest classifier class"
   ]
  },
  {
   "cell_type": "code",
   "execution_count": 18,
   "metadata": {},
   "outputs": [
    {
     "data": {
      "text/plain": [
       "RandomForestClassifier(bootstrap=True, class_weight=None, criterion='gini',\n",
       "                       max_depth=None, max_features='auto', max_leaf_nodes=None,\n",
       "                       min_impurity_decrease=0.0, min_impurity_split=None,\n",
       "                       min_samples_leaf=1, min_samples_split=2,\n",
       "                       min_weight_fraction_leaf=0.0, n_estimators=100,\n",
       "                       n_jobs=None, oob_score=False, random_state=42, verbose=0,\n",
       "                       warm_start=False)"
      ]
     },
     "execution_count": 18,
     "metadata": {},
     "output_type": "execute_result"
    }
   ],
   "source": [
    "clf = RandomForestClassifier(n_estimators=100, random_state=42)\n",
    "clf.fit(X_train, y_train)"
   ]
  },
  {
   "cell_type": "code",
   "execution_count": 19,
   "metadata": {},
   "outputs": [],
   "source": [
    "y_predict1=clf.predict(X_test)"
   ]
  },
  {
   "cell_type": "markdown",
   "metadata": {},
   "source": [
    "### Testing the accuracy of the Random Forest regressor using a Confusion Matrix"
   ]
  },
  {
   "cell_type": "code",
   "execution_count": 20,
   "metadata": {},
   "outputs": [
    {
     "data": {
      "text/plain": [
       "array([[135,   0],\n",
       "       [  0,  63]], dtype=int64)"
      ]
     },
     "execution_count": 20,
     "metadata": {},
     "output_type": "execute_result"
    }
   ],
   "source": [
    "confusion_matrix(y_test, y_predict1)"
   ]
  },
  {
   "cell_type": "markdown",
   "metadata": {},
   "source": [
    "### Classifying a new text(type file) either \"relevant\" or \"not relevant\", based on our previously defined model.The new text was obtained from https://www.cbc.ca/news/world/russia-vaccine-caution-1.5833611 ."
   ]
  },
  {
   "cell_type": "code",
   "execution_count": 21,
   "metadata": {
    "scrolled": false
   },
   "outputs": [
    {
     "name": "stdout",
     "output_type": "stream",
     "text": [
      "['Russia', 'Sputnik', 'V', 'program', 'started', 'facing', 'resistance', 'Social', 'Sharing', 'Facebook', 'Twitter', 'Email', 'Reddit', 'LinkedIn', 'hesitancy', 'significant', 'concern', 'Russia', 'begins', 'mass', 'inoculation', 'Brown', '·', 'CBC', '·', 'Posted', 'Dec', '09', '4:00', 'AM', 'ET', 'hours', 'ago', 'nurse', 'Clinic', 'No', '68', 'Moscow', 'prepares', 'two', 'doses', 'Sputnik', 'V', 'volunteers', 'country', 'national', 'campaign', 'Tens', 'thousands', 'health', 'teachers', 'military', 'personnel', 'others', 'government', 'connections', 'taken', 'prior', 'launch', 'current', 'campaign', 'Corinne', 'Seminoff/CBC', '477', 'comments', 'Russia', 'mass', 'COVID-19', 'campaign', 'got', 'week', 'thousands', 'Russians', 'rolled', 'sleeves', 'volunteered', 'among', 'get', 'arms', 'jabbed', 'dose', 'Sputnik', 'V.', 'Many', 'others', 'however', 'appear', 'holding', 'see', 'things', 'turn', 'People', 'worried', 'understand', 'see', 'controversy', 'said', 'Dr.', 'Yevgeny', 'Timakov', 'Moscow-based', 'infectious', 'disease', 'specialist', 'Most', 'patients', '—', '80', 'per', 'cent', '—', 'want', 'get', 'vaccinated', '…', 'per', 'cent', 'right', 'told', 'CBC', 'interview', 'His', 'observations', 'reflect', 'might', 'broad', 'public', 'hesitancy', 'developed', 'approved', 'delivered', 'public', 'record-shattering', 'time', 'frame', 'Dr.', 'Olga', 'Moskova', 'gets', 'vaccinated', 'coronavirus', 'She', 'told', 'CBC', 'may', 'perfect', 'getting', \"'the\", 'right', 'thing', 'Corinne', 'Seminoff/CBC', 'What', 'Timakov', 'hearing', 'patients', 'echoes', 'findings', 'public', 'opinion', 'survey', 'done', 'independent', 'Lavada', 'Institute', 'October', 'It', 'suggests', 'distrust', 'among', 'Russians', 'increased', 'worsened', '59', 'per', 'cent', 'surveyed', 'suggesting', 'unwilling', 'get', 'vaccinated', 'coronavirus', 'causes', 'COVID-19', 'illness', 'Another', 'survey', 'published', 'around', 'time', 'state-run', 'RIA', 'Novosti', 'agency', 'reported', '70', 'per', 'cent', 'Russians', 'plan', 'get', 'vaccinated', 'Still', 'awaiting', 'full', 'Phase', 'Russia', 'whose', 'meant', 'invoke', 'memories', 'Soviet-era', 'success', 'space', 'world', 'registered', 'August', 'since', 'tens', 'thousands', 'teachers', 'military', 'personnel', 'others', 'government', 'connections', 'taken', 'However', 'success', 'championed', 'basis', 'involving', 'small', 'sample', '100', 'volunteers', 'Track', 'development', 'Subsequent', 'derived', 'Phase', 'trials', 'validated', 'early', 'findings', 'Sputnik', 'V', 'developer', 'publish', 'full', 'Pfizer-BioNTech', 'published', 'safety', 'week', 'part', 'process', 'Food', 'Drug', 'Administration', 'approved', 'Wednesday', 'Vials', 'Sputnik', 'V', 'BIOCAD', 'biotechnology', 'company', 'Saint', 'Petersburg', 'While', 'West', 'criticized', 'lack', 'transparency', 'around', 'Russian', 'development', 'others', 'say', 'underlying', 'science', 'sound', 'line', 'COVID-19', 'Anton', 'Vaganov/Reuters', 'People', 'wary', 'waiting', 'end', 'clinical', 'trials', 'see', 'works', 'All', 'see', 'time', 'said', 'Timakov', 'supports', 'Russians', 'Moscow', 'opens', 'dozens', 'COVID-19', 'centres', 'prioritizes', 'high-risk', 'groups', 'Its', 'maker', 'Gamaleya', 'Research', 'Institute', 'Epidemiology', 'Microbiology', 'said', 'hopes', 'two', 'million', 'Russians', 'vaccinated', 'end', 'month', 'although', 'unclear', 'target', 'met', 'Russia', 'repeatedly', 'promised', 'national', 'program', 'throughout', 'fall', 'delays', 'kept', 'pushing', 'start', \"'The\", 'right', 'thing', \"do'\", 'CBC', 'visited', '70', 'clinics', 'Moscow', 'area', 'began', 'administering', 'week', 'part', 'national', 'immunization', 'program', 'Many', 'signed', 'among', 'get', 'inoculated', 'higher', 'risk', 'contracting', 'Inside', 'pop-up', 'hospital', 'Moscow', 'Russia', 'worst-hit', 'coronavirus', 'crisis', 'Russia', 'says', '95', 'effective', 'So', 'still', 'Western', 'resistance', 'You', 'need', 'get', 'vaccinated', 'need', 'keep', 'working', 'said', 'Dr.', 'Olga', 'Maskova', 'Like', 'everyone', 'received', 'Maskova', 'handed', 'information', 'sheet', 'listing', 'possible', 'short-term', 'side', 'effects', 'including', 'chills', 'fever', 'skin', 'irritation', \"'My\", 'role', 'doctor', 'explain', 'risks', 'says', 'Natalia', 'Kuzinkova', 'head', 'physician', 'Clinic', 'No', '68', 'Corinne', 'Seminoff/CBC', \"'m\", 'absolutely', 'convinced', 'right', 'step', 'said', 'Later', 'might', 'perfected', 'maybe', 'think', 'right', 'thing', 'time', 'Sputnik', 'V', 'adenovirus-based', 'uses', 'modified', 'common', 'cold', 'body', 'immune', 'produce', 'antibodies', 'coronavirus', 'requires', 'booster', 'shot', '21', 'days', 'injection', 'It', 'similar', 'process', 'used', 'Oxford', 'AstraZeneca', 'India', 'South', 'Korea', 'U.A.E', 'sign', 'Sputnik', 'Western', 'split', 'Russian', 'bemoaning', 'lack', 'transparency', 'trials', 'reliance', 'early', 'draw', 'sweeping', 'conclusions', 'effectiveness', 'Others', 'however', 'argue', 'science', 'behind', 'proven', 'likely', 'make', 'contribution', 'fighting', 'globally', 'widespread', 'use', 'CBC', 'IN', 'INDIAAs', 'India', 'braces', 'colossal', 'campaign', 'drugmaker', 'waiting', 'wings', 'Natalia', 'Kuzinkova', 'doctor', 'Clinic', 'No', '68', 'facility', 'CBC', 'visited', 'said', 'understands', 'may', 'reticence', 'among', 'get', 'vaccinated', 'risks', 'waiting', 'far', 'greater', 'My', 'role', 'doctor', 'explain', 'risks', 'said', 'Yes', 'hear', 'opinions', 'responsibility', 'tell', 'sick', 'still', 'get', 'sick', 'die', 'Kremlin', 'fought', 'intense', 'global', 'public', 'relations', 'campaign', 'sell', 'COVID-weary', 'customers', 'abroad', 'also', 'demonstrate', 'Russian', 'superiority', 'area', 'point', 'pride', 'former', 'Soviet', 'Union', 'Few', 'Western', 'governments', 'notable', 'exception', 'Hungary', 'European', 'Union', 'thus', 'far', 'expressed', 'interest', 'Russian', 'However', 'dozens', 'nations', 'parts', 'world', 'including', 'India', 'South', 'Korea', 'United', 'Arab', 'Emirates', 'signed', 'agreements', 'buy', 'Sputnik', 'V', 'arrives', 'Ferenc', 'Liszt', 'International', 'Airport', 'Budapest', 'November', 'Hungary', 'EU', 'country', 'express', 'interest', 'Russian', 'thus', 'far', 'Matyas', 'Borsos/Hungarian', 'Foreign', 'Ministry/Reuters', 'Process', 'moving', 'fast', 'say', 'While', 'concerns', 'clearly', 'rooted', 'adversarial', 'nature', 'relationship', 'Putin', 'counterparts', 'Europe', 'North', 'America', 'also', 'amplified', 'Russia', 'bragging', 'success', 'timing', 'proclamations', 'appeared', 'designed', 'one-up', 'announcements', 'Western', 'makers', 'CBC', 'team', 'Moscow', 'visited', 'Kuznetsky', 'Most', 'pedestrian', 'blocks', 'Kremlin', 'ask', 'people', 'random', 'planned', 'sign', '1976', 'swine', 'flu', 'program', 'may', 'offer', 'lessons', 'COVID-19', 'Most', 'told', 'us', 'would', 'said', 'Artyom', 'Bagamayev', 'trials', 'usually', 'many', 'years', 'bit', 'fast', 'In', 'past', 'arms', 'race', 'biological', 'race', 'Natalia', 'Panfilova', 'agreed', 'You', 'produce', 'effective', 'short', 'period', 'time', 'test', 'say', 'effective', 'said', 'understand', 'works', 'work', 'effective', 'receives', 'Sputnik', 'V', 'Phase', 'trials', 'Corinne', 'Seminoff/CBC', 'Putin', 'vaccinated', 'potential', 'hesitancy', 'clearly', 'unique', 'Russia', 'may', 'accentuated', 'longstanding', 'lack', 'country', 'Hospitals', 'many', 'parts', 'country', 'overwhelmed', 'coronavirus', 'cases', 'social', 'inundated', 'videos', 'shot', 'patients', 'showing', 'deplorable', 'conditions', 'So', 'far', 'second', 'wave', 'coronavirus', 'cases', 'Russian', 'authorities', 'cities', 'including', 'capital', 'Moscow', 'reluctant', 'invoke', 'lockdowns', 'heavy', 'economic', 'toll', 'might', 'inflict', 'struggling', 'economy', 'closer', 'look', 'homegrown', 'COVID-19', 'candidates', 'Development', 'polio', 'useful', 'parallels', 'COVID-19', 'historian', 'severity', 'COVID-19', '500', 'deaths', 'day', 'also', 'getting', 'large', 'public', 'buy-in', 'program', 'even', 'essential', 'brought', 'control', 'While', 'many', 'prominent', 'Russians', 'shown', 'TV', 'getting', 'vaccinations', 'prominent', 'person', 'country', 'biggest', 'cheerleader', 'far', 'Kremlin', 'says', 'Putin', 'taken', 'two', 'doses', 'offered', 'time', 'frame']\n"
     ]
    }
   ],
   "source": [
    "Russia_sput=open(\"Russia_Sputnik.txt\",encoding=\"utf8\")\n",
    "Russia_text=Russia_sput.read()\n",
    "Russia_raw=word_tokenize(Russia_text)\n",
    "Russia_filtered=freq_words(Russia_raw,New)\n",
    "print(Russia_filtered)"
   ]
  },
  {
   "cell_type": "code",
   "execution_count": 22,
   "metadata": {},
   "outputs": [],
   "source": [
    "X_russia=vectorize.transform(Russia_filtered).toarray()"
   ]
  },
  {
   "cell_type": "code",
   "execution_count": 23,
   "metadata": {},
   "outputs": [],
   "source": [
    "Russia_predict=clf.predict(X_russia)"
   ]
  },
  {
   "cell_type": "markdown",
   "metadata": {},
   "source": [
    "### Classifying  based on the average of \"relevant\" vs \"not- relevant\" of the y prediction in the random forest classifier model."
   ]
  },
  {
   "cell_type": "code",
   "execution_count": 24,
   "metadata": {},
   "outputs": [
    {
     "data": {
      "text/plain": [
       "'The analyzed text is not-relevant, with a relevant number of:2.0%'"
      ]
     },
     "execution_count": 24,
     "metadata": {},
     "output_type": "execute_result"
    }
   ],
   "source": [
    "final_classification(Russia_predict,0.5)"
   ]
  }
 ],
 "metadata": {
  "kernelspec": {
   "display_name": "Python 3",
   "language": "python",
   "name": "python3"
  },
  "language_info": {
   "codemirror_mode": {
    "name": "ipython",
    "version": 3
   },
   "file_extension": ".py",
   "mimetype": "text/x-python",
   "name": "python",
   "nbconvert_exporter": "python",
   "pygments_lexer": "ipython3",
   "version": "3.7.4"
  }
 },
 "nbformat": 4,
 "nbformat_minor": 2
}
