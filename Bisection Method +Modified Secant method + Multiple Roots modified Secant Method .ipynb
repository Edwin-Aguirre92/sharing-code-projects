{
 "cells": [
  {
   "cell_type": "markdown",
   "metadata": {},
   "source": [
    "## Using bisection method to determine the real roots of any given function "
   ]
  },
  {
   "cell_type": "code",
   "execution_count": 410,
   "metadata": {},
   "outputs": [],
   "source": [
    "import pandas as pd\n",
    "import numpy as np\n",
    "import matplotlib.pyplot as plt\n",
    "import math "
   ]
  },
  {
   "cell_type": "code",
   "execution_count": 385,
   "metadata": {},
   "outputs": [
    {
     "data": {
      "image/png": "[encoded data removed]",
      "text/plain": [
       "<Figure size 432x288 with 1 Axes>"
      ]
     },
     "metadata": {
      "needs_background": "light"
     },
     "output_type": "display_data"
    }
   ],
   "source": [
    "##function to study\n",
    "xfun=np.arange(0,5)\n",
    "#yfun=np.zeros(len(xfun))\n",
    "yfun=((20**2)*(xfun+3)-(9.81)*(3*xfun+((xfun**2)/2))**3)\n",
    "#plt.plot(Data_Clock_SpeedX,Data_Clock_Speedy,\"r--\",y_poly2,'bs',y_poly3,'g^')\n",
    "plt.plot(xfun,yfun,\"r--\")\n",
    "#plt.plot(n_vector, n_squared, 'r--', n_vector, n_log2 , 'bs', n_vector, vector_fn, 'g^')\n",
    "#plt.legend(['$Actual Data$','$f(x)=ax+b$', '$f(x)=ax^2+bx+c$','$ f(x)=ax^3+bx^2+cx+d$'])\n",
    "#x and y labels \n",
    "plt.xlabel('x >0 points(Real graph)')\n",
    "plt.ylabel('F(x)',fontsize=10)\n",
    "#using the y axis as a logarithmic scale\n",
    "#plt.yscale('log')\n",
    "#title\n",
    "plt.title(' Real roots graph of function $f(x)=20^2(x+3)/(9.81)(3*+(x^2/2))^3 $',fontsize=10)\n",
    "#adding a grid to the plot itself\n",
    "plt.grid(True)\n",
    "#showing image\n",
    "plt.show()"
   ]
  },
  {
   "cell_type": "code",
   "execution_count": 386,
   "metadata": {},
   "outputs": [],
   "source": [
    "def bisection(xmin,xmax,fu,e_a,e_s) :\n",
    "    i=0\n",
    "    while e_a>e_s:\n",
    "        xr=(xmin+xmax)/2\n",
    "        #print(xr)\n",
    "        u_1=fu(xr)*fu(xmin)\n",
    "        #print(u_1)\n",
    "        if u_1>0:\n",
    "            xr_1=(xr+xmax)/2\n",
    "            xmin=xr\n",
    "\n",
    "        elif u_1<0:\n",
    "            xr_1=(xmin+xr)/2\n",
    "            xmax=xr\n",
    "        elif u_1==0:\n",
    "            xr_1=xr\n",
    "        e_a=abs((xr_1-xr)/xr_1)*100\n",
    "        i=i+1\n",
    "    return xr_1,e_a,i"
   ]
  },
  {
   "cell_type": "code",
   "execution_count": 404,
   "metadata": {},
   "outputs": [],
   "source": [
    "#Initial guesses after graphical understanding of what the function looks like \n",
    "e_a=100\n",
    "e_s=0.001\n",
    "x_l=0.5\n",
    "x_u=2.5\n",
    "# arbitrary single variable function \n",
    "def fu_1(xfun):\n",
    "    return (((20**2)*(xfun+3)-(9.81)*(3*xfun+((xfun**2)/2))**3))"
   ]
  },
  {
   "cell_type": "code",
   "execution_count": 405,
   "metadata": {},
   "outputs": [
    {
     "name": "stdout",
     "output_type": "stream",
     "text": [
      "(1.5140609741210938, 0.0005039027266176537, 17)\n"
     ]
    }
   ],
   "source": [
    "##calling function \n",
    "result= bisection(x_l,x_u,fu_1,e_a,e_s)\n",
    "print(result)"
   ]
  },
  {
   "cell_type": "code",
   "execution_count": 406,
   "metadata": {},
   "outputs": [
    {
     "name": "stdout",
     "output_type": "stream",
     "text": [
      "-0.024317344571727517\n"
     ]
    }
   ],
   "source": [
    "print(((20**2)*(1.5140609741210938+3)-(9.81)*(3*1.5140609741210938+((1.5140609741210938**2)/2))**3))"
   ]
  },
  {
   "cell_type": "code",
   "execution_count": 367,
   "metadata": {},
   "outputs": [
    {
     "name": "stdout",
     "output_type": "stream",
     "text": [
      "The previous xr with 9 iterations and relative error of 0.8695652173913043 was : -0.003648805618285955\n",
      "The current  xr with 14 iterations and relative error of 0.027 is: -0.0002048372014540334\n"
     ]
    }
   ],
   "source": [
    "print('The previous xr with 9 iterations and relative error of 0.8695652173913043 was :',4*0.44921875**3-6*0.44921875**2+7*0.44921875-2.3)\n",
    "#print(((2*1-3)*(1+3))/(1*(1-2)))\n",
    "print('The current  xr with 14 iterations and relative error of 0.027 is:',4*0.4500732421875**3-6*0.4500732421875**2+7*0.4500732421875-2.3)"
   ]
  },
  {
   "cell_type": "markdown",
   "metadata": {},
   "source": [
    "## Modified Secant Method used to obtaining the real roots of any equations"
   ]
  },
  {
   "cell_type": "code",
   "execution_count": 452,
   "metadata": {},
   "outputs": [],
   "source": [
    "#use for single roots \n",
    "def modisecant (x0,petur,f_u,e_a,e_s):\n",
    "    i=0\n",
    "    while e_a>e_s:\n",
    "        x_new=x0-(petur*f_u(x0))/(f_u(x0+petur)-f_u(x0))\n",
    "        print(x_new)\n",
    "        e_a=abs((x_new-x0)/x_new)*100\n",
    "        print(e_a)\n",
    "        x0=x_new\n",
    "        i=i+1\n",
    "    return  x_new,e_a,i"
   ]
  },
  {
   "cell_type": "code",
   "execution_count": 450,
   "metadata": {},
   "outputs": [],
   "source": [
    "def fu_2(x):\n",
    "    return math.exp(-x)-x"
   ]
  },
  {
   "cell_type": "code",
   "execution_count": 451,
   "metadata": {},
   "outputs": [
    {
     "name": "stdout",
     "output_type": "stream",
     "text": [
      "0.5372626655366407\n",
      "86.12869721761844\n",
      "0.5670349866351645\n",
      "5.250526299125802\n",
      "0.5671434839718879\n",
      "0.019130491628593687\n",
      "(0.5671434839718879, 0.019130491628593687, 3)\n"
     ]
    }
   ],
   "source": [
    "e_a=100\n",
    "e_s=1\n",
    "x0=1\n",
    "petur=0.01\n",
    "m=modisecant(x0,petur,fu_2,e_a,e_s)\n",
    "print(m)"
   ]
  },
  {
   "cell_type": "markdown",
   "metadata": {},
   "source": [
    "## Multiple Roots modified Secant method "
   ]
  },
  {
   "cell_type": "code",
   "execution_count": 503,
   "metadata": {},
   "outputs": [],
   "source": [
    "def multirootsecantmehod (x0,deltax,f_u,e_a,e_s):\n",
    "    i=0\n",
    "    while e_a>e_s:\n",
    "        x_new=x0-(deltax*f_u(x0))/(f_u(x0+deltax)-f_u(x0))\n",
    "        e_a=abs((x_new-x0)/x_new)*100\n",
    "        print(x_new)\n",
    "        print(e_a)\n",
    "        print(i)\n",
    "        x0=x_new\n",
    "        i=i+1\n",
    "    return  x_new,e_a,i"
   ]
  },
  {
   "cell_type": "code",
   "execution_count": 483,
   "metadata": {},
   "outputs": [],
   "source": [
    "#ratio of actual equation to the derivative of said equation \n",
    "def fu_3(x):\n",
    "    return (x**3-5*x**2+7*x-3)/(3*x**2-10*x+7)"
   ]
  },
  {
   "cell_type": "code",
   "execution_count": null,
   "metadata": {},
   "outputs": [],
   "source": [
    "##function to study\n",
    "xfun=np.arange(0,5,0.25)\n",
    "#yfun=np.zeros(len(xfun))\n",
    "yfun=(xfun**3-5*xfun**2+7*xfun-3)\n",
    "#plt.plot(Data_Clock_SpeedX,Data_Clock_Speedy,\"r--\",y_poly2,'bs',y_poly3,'g^')\n",
    "plt.plot(xfun,yfun,\"r--\",xfun,np.zeros(len(xfun)),'b--')\n",
    "#plt.plot(n_vector, n_squared, 'r--', n_vector, n_log2 , 'bs', n_vector, vector_fn, 'g^')\n",
    "plt.legend(['$x-axis$','$ f(x)=x^3-5x^2+7x-3$'])\n",
    "#x and y labels \n",
    "plt.xlabel('x >0 points(Real graph)')\n",
    "plt.ylabel('F(x)',fontsize=10)\n",
    "#using the y axis as a logarithmic scale\n",
    "#plt.yscale('log')\n",
    "#title\n",
    "plt.title(' Real roots graph of function $f(x)=x^3-5x^2+7x-3 $',fontsize=10)\n",
    "#adding a grid to the plot itself\n",
    "plt.grid(True)\n",
    "#showing image\n",
    "plt.show()"
   ]
  },
  {
   "cell_type": "code",
   "execution_count": 485,
   "metadata": {},
   "outputs": [
    {
     "name": "stdout",
     "output_type": "stream",
     "text": [
      "(3.0000079253224308, 0.02932421161473693, 5)\n"
     ]
    }
   ],
   "source": [
    "e_a=100\n",
    "e_s=1\n",
    "x0=4\n",
    "deltax=0.01\n",
    "m1=multirootsecantmehod(x0,deltax,fu_3,e_a,e_s)\n",
    "print(m1)"
   ]
  },
  {
   "cell_type": "code",
   "execution_count": 499,
   "metadata": {},
   "outputs": [
    {
     "data": {
      "image/png": "[encoded data removed]",
      "text/plain": [
       "<Figure size 432x288 with 1 Axes>"
      ]
     },
     "metadata": {
      "needs_background": "light"
     },
     "output_type": "display_data"
    }
   ],
   "source": [
    "##function to study\n",
    "xfun=np.arange(0,5,0.25)\n",
    "#yfun=np.zeros(len(xfun))\n",
    "R=3\n",
    "V=30\n",
    "yfun=((math.pi*3*R*xfun**2)/3-((math.pi*xfun**3)/3)-V)\n",
    "#plt.plot(Data_Clock_SpeedX,Data_Clock_Speedy,\"r--\",y_poly2,'bs',y_poly3,'g^')\n",
    "plt.plot(xfun,yfun,\"r--\",xfun,np.zeros(len(xfun)),'b--')\n",
    "#plt.plot(n_vector, n_squared, 'r--', n_vector, n_log2 , 'bs', n_vector, vector_fn, 'g^')\n",
    "plt.legend(['$y-axis$','$ f(y)=(9\\pi h^2)/3 -(\\pi h^3)/3 -30 $'])\n",
    "#x and y labels \n",
    "plt.xlabel('y >0 points(Real graph)')\n",
    "plt.ylabel('F(y)',fontsize=10)\n",
    "#using the y axis as a logarithmic scale\n",
    "#plt.yscale('log')\n",
    "#title\n",
    "plt.title(' Real roots graph of function $f(y)=(9\\pi h^2)/3 -(\\pi h^3)/3 -30 $',fontsize=10)\n",
    "#adding a grid to the plot itself\n",
    "plt.grid(True)\n",
    "#showing image\n",
    "plt.show()"
   ]
  },
  {
   "cell_type": "code",
   "execution_count": 500,
   "metadata": {},
   "outputs": [],
   "source": [
    "#ratio of actual equation to the derivative of said equation \n",
    "def fu_4(h):\n",
    "    R=3\n",
    "    V=30\n",
    "    return ((math.pi*3*R*h**2)/3-((math.pi*h**3)/3)-V)/(2*math.pi*R*h-math.pi*h**2)"
   ]
  },
  {
   "cell_type": "code",
   "execution_count": 505,
   "metadata": {},
   "outputs": [
    {
     "name": "stdout",
     "output_type": "stream",
     "text": [
      "1.6599459471504665\n",
      "39.757074516996035\n",
      "0\n",
      "2.0011886408366073\n",
      "17.05200033233661\n",
      "1\n",
      "2.0268552491532845\n",
      "1.266326656893698\n",
      "2\n",
      "(2.0268552491532845, 1.266326656893698, 3)\n"
     ]
    }
   ],
   "source": [
    "e_a=100\n",
    "e_s=2\n",
    "x0=1\n",
    "deltax=0.01\n",
    "m1=multirootsecantmehod(x0,deltax,fu_4,e_a,e_s)\n",
    "print(m1)"
   ]
  },
  {
   "cell_type": "code",
   "execution_count": null,
   "metadata": {},
   "outputs": [],
   "source": []
  }
 ],
 "metadata": {
  "kernelspec": {
   "display_name": "Python 3",
   "language": "python",
   "name": "python3"
  },
  "language_info": {
   "codemirror_mode": {
    "name": "ipython",
    "version": 3
   },
   "file_extension": ".py",
   "mimetype": "text/x-python",
   "name": "python",
   "nbconvert_exporter": "python",
   "pygments_lexer": "ipython3",
   "version": "3.7.4"
  }
 },
 "nbformat": 4,
 "nbformat_minor": 2
}
